{
 "cells": [
  {
   "attachments": {},
   "cell_type": "markdown",
   "metadata": {},
   "source": [
    "Rock,Paper,Scissor Game Using the concepts of Object Oriented Programming in Python programming."
   ]
  },
  {
   "cell_type": "code",
   "execution_count": 1,
   "metadata": {},
   "outputs": [
    {
     "name": "stdout",
     "output_type": "stream",
     "text": [
      "Let's play Rock-Paper-Scissors!\n",
      "\n",
      "Round 1:\n",
      "You plays rock\n",
      "Computer plays rock\n",
      "It's a tie!\n",
      "\n",
      "Round 2:\n",
      "Invalid move. Try again.\n",
      "You plays scissors\n",
      "Computer plays paper\n",
      "You wins!\n",
      "\n",
      "Round 3:\n",
      "You plays paper\n",
      "Computer plays paper\n",
      "It's a tie!\n",
      "\n",
      "Game over!\n",
      "You wins the game!\n"
     ]
    }
   ],
   "source": [
    "import random\n",
    "\n",
    "class Player:\n",
    "    def __init__(self, name):\n",
    "        self.name = name\n",
    "        self.score = 0\n",
    "\n",
    "    def play(self):\n",
    "        pass\n",
    "\n",
    "    def __str__(self):\n",
    "        return self.name\n",
    "\n",
    "class Human(Player):\n",
    "    def play(self):\n",
    "        while True:\n",
    "            move = input(\"Enter your move (rock, paper, scissors): \")\n",
    "            if move.lower() in (\"rock\", \"paper\", \"scissors\"):\n",
    "                return move.lower()\n",
    "            print(\"Invalid move. Try again.\")\n",
    "\n",
    "class Computer(Player):\n",
    "    def play(self):\n",
    "        return random.choice([\"rock\", \"paper\", \"scissors\"])\n",
    "\n",
    "class Game:\n",
    "    def __init__(self, player1, player2):\n",
    "        self.player1 = player1\n",
    "        self.player2 = player2\n",
    "\n",
    "    def play_round(self):\n",
    "        move1 = self.player1.play()\n",
    "        move2 = self.player2.play()\n",
    "        print(f\"{self.player1} plays {move1}\")\n",
    "        print(f\"{self.player2} plays {move2}\")\n",
    "        if move1 == move2:\n",
    "            print(\"It's a tie!\")\n",
    "        elif (move1 == \"rock\" and move2 == \"scissors\") or \\\n",
    "             (move1 == \"paper\" and move2 == \"rock\") or \\\n",
    "             (move1 == \"scissors\" and move2 == \"paper\"):\n",
    "            print(f\"{self.player1} wins!\")\n",
    "            self.player1.score += 1\n",
    "        else:\n",
    "            print(f\"{self.player2} wins!\")\n",
    "            self.player2.score += 1\n",
    "\n",
    "    def play_game(self):\n",
    "        print(\"Let's play Rock-Paper-Scissors!\")\n",
    "        for i in range(3):\n",
    "            print(f\"\\nRound {i+1}:\")\n",
    "            self.play_round()\n",
    "\n",
    "        print(\"\\nGame over!\")\n",
    "        if self.player1.score == self.player2.score:\n",
    "            print(\"It's a tie!\")\n",
    "        elif self.player1.score > self.player2.score:\n",
    "            print(f\"{self.player1} wins the game!\")\n",
    "        else:\n",
    "            print(f\"{self.player2} wins the game!\")\n",
    "\n",
    "if __name__ == \"__main__\":\n",
    "    player1 = Human(\"You\")\n",
    "    player2 = Computer(\"Computer\")\n",
    "    game = Game(player1, player2)\n",
    "    game.play_game()\n"
   ]
  }
 ],
 "metadata": {
  "kernelspec": {
   "display_name": "Python 3",
   "language": "python",
   "name": "python3"
  },
  "language_info": {
   "codemirror_mode": {
    "name": "ipython",
    "version": 3
   },
   "file_extension": ".py",
   "mimetype": "text/x-python",
   "name": "python",
   "nbconvert_exporter": "python",
   "pygments_lexer": "ipython3",
   "version": "3.11.1"
  },
  "orig_nbformat": 4
 },
 "nbformat": 4,
 "nbformat_minor": 2
}
